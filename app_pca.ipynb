import pandas as pd
from sklearn.decomposition import PCA 

individu_contrib = np.sum(X**2,axis=1)
acp = PCA(svd_solver='full')
coord = acp.fit_transform(X)
cos2 = coord**2 
for j in range(acp.n_components_):
    cos2[:,j] = cos2[:,j]/individu_contrib
print("les COS2 pour les deux premiers Facteurs: ")
print("   Cosinus carré : qualité de représentation de la variable sur les composantes _1 et _2.")
