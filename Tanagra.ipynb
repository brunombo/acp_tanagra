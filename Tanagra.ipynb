{
 "cells": [
  {
   "cell_type": "markdown",
   "id": "cognitive-objective",
   "metadata": {
    "toc": true
   },
   "source": [
    "<h1>Table of Contents<span class=\"tocSkip\"></span></h1>\n",
    "<div class=\"toc\"><ul class=\"toc-item\"></ul></div>"
   ]
  },
  {
   "cell_type": "code",
   "execution_count": 20,
   "id": "skilled-alabama",
   "metadata": {
    "ExecuteTime": {
     "end_time": "2021-03-22T13:28:13.697834Z",
     "start_time": "2021-03-22T13:28:13.624770Z"
    }
   },
   "outputs": [],
   "source": [
    "import pandas as pd\n",
    "#version print(pandas.__version__) # 0.23.0 #chargement de la première feuille de données \n",
    "X = pandas.read_excel(\"C:/Users/ABMO6481/Documents/Protected/VS/cours-data/notebook/autos_acp_excel.xlsx\",sheet_name=\"data\",header=0,index_col=0)\n",
    "Z = pd.read_csv(\"C:/Users/ABMO6481/Documents/Protected/VS/cours-data/faux-billets/notes_clean.csv\",index_col=0)\n",
    "\n"
   ]
  },
  {
   "cell_type": "code",
   "execution_count": 21,
   "id": "starting-cargo",
   "metadata": {
    "ExecuteTime": {
     "end_time": "2021-03-22T13:28:34.408116Z",
     "start_time": "2021-03-22T13:28:34.399104Z"
    }
   },
   "outputs": [
    {
     "name": "stdout",
     "output_type": "stream",
     "text": [
      "les COS2 pour les deux premiers Facteurs: \n",
      "   Cosinus carré : qualité de représentation de la variable sur les composantes _1 et _2.\n"
     ]
    }
   ],
   "source": [
    "from sklearn.decomposition import PCA \n",
    "\n",
    "individu_contrib = np.sum(X**2,axis=1)\n",
    "acp = PCA(svd_solver='full')\n",
    "coord = acp.fit_transform(X)\n",
    "cos2 = coord**2 \n",
    "for j in range(acp.n_components_):\n",
    "    cos2[:,j] = cos2[:,j]/individu_contrib\n",
    "print(\"les COS2 pour les deux premiers Facteurs: \")\n",
    "print(\"   Cosinus carré : qualité de représentation de la variable sur les composantes _1 et _2.\")\n"
   ]
  },
  {
   "cell_type": "code",
   "execution_count": 23,
   "id": "increased-paris",
   "metadata": {
    "ExecuteTime": {
     "end_time": "2021-03-22T13:28:58.761585Z",
     "start_time": "2021-03-22T13:28:58.738104Z"
    }
   },
   "outputs": [
    {
     "name": "stdout",
     "output_type": "stream",
     "text": [
      "\n",
      " Individus bien représentés par Facteur 1\n",
      "                 id    COS2_1\n",
      "9    Toyota Corolla  0.123258\n",
      "8        Renault 30  0.122907\n",
      "3   Citroen GS Club  0.073857\n",
      "17        Lada 1300  0.046470\n",
      "0        Alfasud TI  0.039303\n",
      "\n",
      " Individus mal représentés par Facteur 1\n",
      "               id    COS2_1\n",
      "1        Audi 100  0.000240\n",
      "4        Fiat 132  0.000326\n",
      "10   Alfetta 1.66  0.001042\n",
      "7   Renault 16 TL  0.001984\n",
      "15     Mazda 9295  0.004045\n",
      "\n",
      " Individus bien représentés par Facteur 2\n",
      "                id    COS2_2\n",
      "9   Toyota Corolla  0.006251\n",
      "0       Alfasud TI  0.005180\n",
      "12     Datsun 200L  0.004887\n",
      "5      Lancia Beta  0.003162\n",
      "14          Rancho  0.002949\n",
      "\n",
      " Individus mal représentés par Facteur 2\n",
      "               id        COS2_2\n",
      "10   Alfetta 1.66  2.262317e-08\n",
      "15     Mazda 9295  1.310343e-04\n",
      "17      Lada 1300  1.738447e-04\n",
      "11  Princess 1800  1.774012e-04\n",
      "6     Peugeot 504  1.897075e-04\n"
     ]
    }
   ],
   "source": [
    "# contrib_individus.sort_values(by='individu_contrib',inplace=True,ascending=False)\n",
    "\n",
    "print(\"\\n Individus bien représentés par Facteur 1\")\n",
    "print(pd.DataFrame({'id':X.index,'COS2_1':cos2[:,0]}).sort_values(by='COS2_1',ascending=False).head(5))\n",
    "\n",
    "print(\"\\n Individus mal représentés par Facteur 1\")\n",
    "print(pd.DataFrame({'id':X.index,'COS2_1':cos2[:,0]}).sort_values(by='COS2_1',ascending=True).head(5))\n",
    "\n",
    "print(\"\\n Individus bien représentés par Facteur 2\")\n",
    "print(pd.DataFrame({'id':X.index,'COS2_2':cos2[:,1]}).sort_values(by='COS2_2',ascending=False).head(5))\n",
    "\n",
    "print(\"\\n Individus mal représentés par Facteur 2\")\n",
    "print(pd.DataFrame({'id':X.index,'COS2_2':cos2[:,1]}).sort_values(by='COS2_2',ascending=True).head(5))\n"
   ]
  },
  {
   "cell_type": "code",
   "execution_count": 26,
   "id": "digital-teach",
   "metadata": {
    "ExecuteTime": {
     "end_time": "2021-03-22T13:30:40.805712Z",
     "start_time": "2021-03-22T13:30:40.799728Z"
    }
   },
   "outputs": [
    {
     "name": "stdout",
     "output_type": "stream",
     "text": [
      "\u001b[31m ko - somme des % differt de 1 \u001b[0m\n",
      "[0.04464231 0.00103499 0.03825767 0.07409755 0.00078309 0.03621702\n",
      " 0.00701441 0.00283835 0.12350051 0.12955825 0.0013238  0.00711544\n",
      " 0.03592613 0.02424633 0.01077268 0.00419229 0.02265097 0.04674077]\n"
     ]
    }
   ],
   "source": [
    "# vérifions la théorie - somme en ligne des cos2 = 1\n",
    "verfif_cos_1 = np.sum(cos2,axis=1)\n",
    "if np.all ((verfif_cos_1.round(1) == 1.0 )) :\n",
    "    print('ok - somme des % = 1')\n",
    "else:\n",
    "    print(\"\\x1b[31m ko - somme des % differt de 1 \\x1b[0m\")\n",
    "    print(verfif_cos_1)"
   ]
  },
  {
   "cell_type": "code",
   "execution_count": null,
   "id": "commercial-personality",
   "metadata": {},
   "outputs": [],
   "source": []
  }
 ],
 "metadata": {
  "kernelspec": {
   "display_name": "Python 3",
   "language": "python",
   "name": "python3"
  },
  "language_info": {
   "codemirror_mode": {
    "name": "ipython",
    "version": 3
   },
   "file_extension": ".py",
   "mimetype": "text/x-python",
   "name": "python",
   "nbconvert_exporter": "python",
   "pygments_lexer": "ipython3",
   "version": "3.9.1"
  },
  "toc": {
   "base_numbering": 1,
   "nav_menu": {},
   "number_sections": true,
   "sideBar": true,
   "skip_h1_title": false,
   "title_cell": "Table of Contents",
   "title_sidebar": "Contents",
   "toc_cell": true,
   "toc_position": {},
   "toc_section_display": true,
   "toc_window_display": false
  },
  "varInspector": {
   "cols": {
    "lenName": 16,
    "lenType": 16,
    "lenVar": 40
   },
   "kernels_config": {
    "python": {
     "delete_cmd_postfix": "",
     "delete_cmd_prefix": "del ",
     "library": "var_list.py",
     "varRefreshCmd": "print(var_dic_list())"
    },
    "r": {
     "delete_cmd_postfix": ") ",
     "delete_cmd_prefix": "rm(",
     "library": "var_list.r",
     "varRefreshCmd": "cat(var_dic_list()) "
    }
   },
   "types_to_exclude": [
    "module",
    "function",
    "builtin_function_or_method",
    "instance",
    "_Feature"
   ],
   "window_display": false
  }
 },
 "nbformat": 4,
 "nbformat_minor": 5
}
