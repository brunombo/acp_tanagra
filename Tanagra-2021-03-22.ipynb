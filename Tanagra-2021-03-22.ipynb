{
 "cells": [
  {
   "cell_type": "markdown",
   "id": "cognitive-objective",
   "metadata": {
    "toc": true
   },
   "source": [
    "<h1>Table of Contents<span class=\"tocSkip\"></span></h1>\n",
    "<div class=\"toc\"><ul class=\"toc-item\"></ul></div>"
   ]
  },
  {
   "cell_type": "code",
   "execution_count": 2,
   "id": "friendly-times",
   "metadata": {},
   "outputs": [
    {
     "name": "stdout",
     "output_type": "stream",
     "text": [
      "Collecting pandas\n",
      "  Downloading pandas-1.2.3-cp37-cp37m-manylinux1_x86_64.whl (9.9 MB)\n",
      "\u001b[K     |████████████████████████████████| 9.9 MB 3.8 MB/s eta 0:00:01\n",
      "\u001b[?25hRequirement already satisfied: pytz>=2017.3 in /srv/conda/envs/notebook/lib/python3.7/site-packages (from pandas) (2021.1)\n",
      "Collecting numpy>=1.16.5\n",
      "  Downloading numpy-1.20.1-cp37-cp37m-manylinux2010_x86_64.whl (15.3 MB)\n",
      "\u001b[K     |████████████████████████████████| 15.3 MB 54.4 MB/s eta 0:00:01��███▍        | 11.2 MB 54.4 MB/s eta 0:00:01\n",
      "\u001b[?25hRequirement already satisfied: python-dateutil>=2.7.3 in /srv/conda/envs/notebook/lib/python3.7/site-packages (from pandas) (2.8.1)\n",
      "Requirement already satisfied: six>=1.5 in /srv/conda/envs/notebook/lib/python3.7/site-packages (from python-dateutil>=2.7.3->pandas) (1.15.0)\n",
      "Installing collected packages: numpy, pandas\n",
      "Successfully installed numpy-1.20.1 pandas-1.2.3\n"
     ]
    }
   ],
   "source": [
    "!pip install pandas\n",
    "!pip install openpyxl \n",
    "!pip install sklearn"
   ]
  },
  {
   "cell_type": "code",
   "execution_count": 24,
   "id": "intellectual-poker",
   "metadata": {},
   "outputs": [
    {
     "name": "stdout",
     "output_type": "stream",
     "text": [
      "Collecting matplotlib\n",
      "  Downloading matplotlib-3.3.4-cp37-cp37m-manylinux1_x86_64.whl (11.5 MB)\n",
      "\u001b[K     |████████████████████████████████| 11.5 MB 4.8 MB/s eta 0:00:01\n",
      "\u001b[?25hCollecting pillow>=6.2.0\n",
      "  Downloading Pillow-8.1.2-cp37-cp37m-manylinux1_x86_64.whl (2.2 MB)\n",
      "\u001b[K     |████████████████████████████████| 2.2 MB 52.4 MB/s eta 0:00:01\n",
      "\u001b[?25hCollecting cycler>=0.10\n",
      "  Downloading cycler-0.10.0-py2.py3-none-any.whl (6.5 kB)\n",
      "Collecting kiwisolver>=1.0.1\n",
      "  Downloading kiwisolver-1.3.1-cp37-cp37m-manylinux1_x86_64.whl (1.1 MB)\n",
      "\u001b[K     |████████████████████████████████| 1.1 MB 4.4 MB/s eta 0:00:01\n",
      "\u001b[?25hRequirement already satisfied: pyparsing!=2.0.4,!=2.1.2,!=2.1.6,>=2.0.3 in /srv/conda/envs/notebook/lib/python3.7/site-packages (from matplotlib) (2.4.7)\n",
      "Requirement already satisfied: python-dateutil>=2.1 in /srv/conda/envs/notebook/lib/python3.7/site-packages (from matplotlib) (2.8.1)\n",
      "Requirement already satisfied: numpy>=1.15 in /srv/conda/envs/notebook/lib/python3.7/site-packages (from matplotlib) (1.20.1)\n",
      "Requirement already satisfied: six in /srv/conda/envs/notebook/lib/python3.7/site-packages (from cycler>=0.10->matplotlib) (1.15.0)\n",
      "Installing collected packages: pillow, kiwisolver, cycler, matplotlib\n",
      "Successfully installed cycler-0.10.0 kiwisolver-1.3.1 matplotlib-3.3.4 pillow-8.1.2\n"
     ]
    }
   ],
   "source": [
    "!pip install matplotlib"
   ]
  },
  {
   "cell_type": "code",
   "execution_count": 29,
   "id": "skilled-alabama",
   "metadata": {
    "ExecuteTime": {
     "end_time": "2021-03-22T13:28:13.697834Z",
     "start_time": "2021-03-22T13:28:13.624770Z"
    }
   },
   "outputs": [],
   "source": [
    "import pandas as pd\n",
    "import numpy as np\n",
    "import matplotlib.pyplot as plt\n"
   ]
  },
  {
   "cell_type": "code",
   "execution_count": null,
   "id": "conventional-international",
   "metadata": {},
   "outputs": [],
   "source": [
    "X = pd.read_excel(\"autos_acp_excel.xlsx\",sheet_name=\"data\",header=0,index_col=0)"
   ]
  },
  {
   "cell_type": "code",
   "execution_count": 4,
   "id": "alternate-finnish",
   "metadata": {},
   "outputs": [
    {
     "name": "stdout",
     "output_type": "stream",
     "text": [
      "(18, 6)\n",
      "                  CYL  PUISS  LONG  LARG  POIDS  V.MAX\n",
      "Modele                                                \n",
      "Alfasud TI       1350     79   393   161    870    165\n",
      "Audi 100         1588     85   468   177   1110    160\n",
      "Simca 1300       1294     68   424   168   1050    152\n",
      "Citroen GS Club  1222     59   412   161    930    151\n",
      "Fiat 132         1585     98   439   164   1105    165\n",
      "Lancia Beta      1297     82   429   169   1080    160\n",
      "Peugeot 504      1796     79   449   169   1160    154\n",
      "Renault 16 TL    1565     55   424   163   1010    140\n",
      "Renault 30       2664    128   452   173   1320    180\n",
      "Toyota Corolla   1166     55   399   157    815    140\n",
      "Alfetta 1.66     1570    109   428   162   1060    175\n",
      "Princess 1800    1798     82   445   172   1160    158\n",
      "Datsun 200L      1998    115   469   169   1370    160\n",
      "Taunus 2000      1993     98   438   170   1080    167\n",
      "Rancho           1442     80   431   166   1129    144\n",
      "Mazda 9295       1769     83   440   165   1095    165\n",
      "Opel Rekord      1979    100   459   173   1120    173\n",
      "Lada 1300        1294     68   404   161    955    140\n"
     ]
    }
   ],
   "source": [
    "#dimension \n",
    "print(X.shape) # (18, 6) \n",
    "#nombre d'observations \n",
    "n = X.shape[0] #nombre de variables \n",
    "p = X.shape[1] #affichage des données \n",
    "print(X)"
   ]
  },
  {
   "cell_type": "code",
   "execution_count": 7,
   "id": "criminal-interest",
   "metadata": {},
   "outputs": [
    {
     "name": "stdout",
     "output_type": "stream",
     "text": [
      "[[-0.77509889 -0.28335818 -1.88508077 -1.09734528 -1.56900676  0.56976043]\n",
      " [-0.12016326  0.01963869  1.60580955  2.0010414   0.23416142  0.14597168]\n",
      " [-0.92920139 -0.83885242 -0.44217944  0.25819889 -0.21663062 -0.53209032]\n",
      " [-1.12733318 -1.29334771 -1.00072189 -1.09734528 -1.11821472 -0.61684807]\n",
      " [-0.12841875  0.67613189  0.25599862 -0.51639778  0.19659542  0.56976043]\n",
      " [-0.9209459  -0.13185975 -0.20945342  0.45184806  0.0087654   0.14597168]\n",
      " [ 0.45221746 -0.28335818  0.72145067  0.45184806  0.60982146 -0.36257482]\n",
      " [-0.18345536 -1.49534562 -0.44217944 -0.71004695 -0.51715865 -1.54918332]\n",
      " [ 2.84080623  2.19111619  0.86108628  1.22644473  1.81193359  1.84112668]\n",
      " [-1.28143568 -1.49534562 -1.60580955 -1.87194195 -1.98223281 -1.54918332]\n",
      " [-0.16969621  1.23162613 -0.25599862 -0.90369611 -0.14149861  1.41733793]\n",
      " [ 0.45772112 -0.13185975  0.53526985  1.03279556  0.60982146 -0.02354382]\n",
      " [ 1.0080872   1.53462299  1.65235475  0.45184806  2.18759363  0.14597168]\n",
      " [ 0.99432805  0.67613189  0.20945342  0.64549722  0.0087654   0.73927593]\n",
      " [-0.5219305  -0.2328587  -0.11636301 -0.12909944  0.37691224 -1.21015232]\n",
      " [ 0.37791804 -0.08136027  0.30254383 -0.32274861  0.12146341  0.56976043]\n",
      " [ 0.95580242  0.77713084  1.18690271  1.22644473  0.30929343  1.24782243]\n",
      " [-0.92920139 -0.83885242 -1.37308353 -1.09734528 -0.9303847  -1.54918332]]\n"
     ]
    }
   ],
   "source": [
    "#classe pour standardisation \n",
    "from sklearn.preprocessing import StandardScaler \n",
    "#instanciation \n",
    "sc = StandardScaler() \n",
    "#transformation – centrage-réduction \n",
    "Z = sc.fit_transform(X)\n",
    "print(Z)"
   ]
  },
  {
   "cell_type": "code",
   "execution_count": 11,
   "id": "thirty-jesus",
   "metadata": {},
   "outputs": [
    {
     "name": "stdout",
     "output_type": "stream",
     "text": [
      "[-2.22044605e-16 -1.41861831e-16  0.00000000e+00  1.86270752e-15\n",
      "  5.73615229e-16  5.55111512e-16]\n",
      "écart-type [1. 1. 1. 1. 1. 1.]\n"
     ]
    }
   ],
   "source": [
    "print(np.mean(Z,axis=0))\n",
    "#écart-type \n",
    "print('écart-type',np.std(Z,axis=0,ddof=0))"
   ]
  },
  {
   "cell_type": "code",
   "execution_count": 13,
   "id": "starting-cargo",
   "metadata": {
    "ExecuteTime": {
     "end_time": "2021-03-22T13:28:34.408116Z",
     "start_time": "2021-03-22T13:28:34.399104Z"
    }
   },
   "outputs": [
    {
     "name": "stdout",
     "output_type": "stream",
     "text": [
      "ACP PCA(svd_solver='full')\n"
     ]
    },
    {
     "data": {
      "text/plain": [
       "PCA(svd_solver='full')"
      ]
     },
     "execution_count": 13,
     "metadata": {},
     "output_type": "execute_result"
    }
   ],
   "source": [
    "from sklearn.decomposition import PCA \n",
    "\n",
    "individu_contrib = np.sum(X**2,axis=1)\n",
    "acp = PCA(svd_solver='full')\n",
    "\n",
    "print('ACP',acp)\n"
   ]
  },
  {
   "cell_type": "code",
   "execution_count": 16,
   "id": "sunrise-consumer",
   "metadata": {},
   "outputs": [
    {
     "name": "stdout",
     "output_type": "stream",
     "text": [
      "n_components_ =  6\n"
     ]
    }
   ],
   "source": [
    "coord = acp.fit_transform(Z)\n",
    "print('n_components_ = ',acp.n_components_)"
   ]
  },
  {
   "cell_type": "code",
   "execution_count": 23,
   "id": "appointed-ethnic",
   "metadata": {},
   "outputs": [
    {
     "name": "stdout",
     "output_type": "stream",
     "text": [
      "variance expliquée = [4.42085806 0.85606229 0.37306608 0.21392209 0.09280121 0.04329027]\n",
      "via singular = [4.42085806 0.85606229 0.37306608 0.21392209 0.09280121 0.04329027]\n",
      "proportion de variance expliquée :  [0.7368 0.1427 0.0622 0.0357 0.0155 0.0072]\n"
     ]
    }
   ],
   "source": [
    "eigval = (n-1)/n*acp.explained_variance_ \n",
    "print('variance expliquée =',eigval)\n",
    "print('via singular =',acp.singular_values_**2/n)\n",
    "\n",
    "#proportion de variance expliquée \n",
    "print('proportion de variance expliquée : ',acp.explained_variance_ratio_.round(4))"
   ]
  },
  {
   "cell_type": "code",
   "execution_count": 31,
   "id": "small-sound",
   "metadata": {},
   "outputs": [
    {
     "data": {
      "image/png": "[encoded data removed]",
      "text/plain": [
       "<Figure size 432x288 with 1 Axes>"
      ]
     },
     "metadata": {
      "needs_background": "light"
     },
     "output_type": "display_data"
    }
   ],
   "source": [
    "#scree plot \n",
    "plt.plot(np.arange(1,p+1),eigval) \n",
    "plt.title(\"Screen plot\") \n",
    "plt.ylabel(\"Eigen values\") \n",
    "plt.xlabel(\"Factor number\") \n",
    "plt.show()"
   ]
  },
  {
   "cell_type": "code",
   "execution_count": 34,
   "id": "endless-montana",
   "metadata": {},
   "outputs": [
    {
     "data": {
      "image/png": "[encoded data removed]",
      "text/plain": [
       "<Figure size 432x288 with 1 Axes>"
      ]
     },
     "metadata": {
      "needs_background": "light"
     },
     "output_type": "display_data"
    }
   ],
   "source": [
    "#cumul de variance expliquée \n",
    "plt.plot(np.arange(1,p+1),np.cumsum(acp.explained_variance_ratio_)) \n",
    "plt.title(\"Explained variance vs. # of factors\") \n",
    "plt.ylabel(\"Cumsum explained variance ratio\") \n",
    "plt.xlabel(\"Factor number\") \n",
    "plt.show()"
   ]
  },
  {
   "cell_type": "code",
   "execution_count": 36,
   "id": "perceived-updating",
   "metadata": {},
   "outputs": [],
   "source": [
    "#seuils pour test des bâtons brisés \n",
    "bs = 1/np.arange(p,0,-1) \n",
    "bs = np.cumsum(bs) \n",
    "bs = bs[::-1]"
   ]
  },
  {
   "cell_type": "code",
   "execution_count": 38,
   "id": "canadian-jason",
   "metadata": {},
   "outputs": [
    {
     "name": "stdout",
     "output_type": "stream",
     "text": [
      "   Val.Propre    Seuils\n",
      "0    4.420858  2.450000\n",
      "1    0.856062  1.450000\n",
      "2    0.373066  0.950000\n",
      "3    0.213922  0.616667\n",
      "4    0.092801  0.366667\n",
      "5    0.043290  0.166667\n"
     ]
    }
   ],
   "source": [
    "#test des bâtons brisés \n",
    "print(pd.DataFrame({'Val.Propre':eigval,'Seuils':bs}))"
   ]
  },
  {
   "cell_type": "code",
   "execution_count": null,
   "id": "diagnostic-mexican",
   "metadata": {},
   "outputs": [],
   "source": [
    "cos2 = coord**2 \n",
    "for j in range(acp.n_components_):\n",
    "    cos2[:,j] = cos2[:,j]/individu_contrib\n",
    "print(\"les COS2 pour les deux premiers Facteurs: \")\n",
    "print(\"   Cosinus carré : qualité de représentation de la variable sur les composantes _1 et _2.\")\n"
   ]
  },
  {
   "cell_type": "code",
   "execution_count": 14,
   "id": "increased-paris",
   "metadata": {
    "ExecuteTime": {
     "end_time": "2021-03-22T13:28:58.761585Z",
     "start_time": "2021-03-22T13:28:58.738104Z"
    }
   },
   "outputs": [
    {
     "name": "stdout",
     "output_type": "stream",
     "text": [
      "\n",
      " Individus bien représentés par Facteur 1\n",
      "                 id    COS2_1\n",
      "9    Toyota Corolla  0.123258\n",
      "8        Renault 30  0.122907\n",
      "3   Citroen GS Club  0.073857\n",
      "17        Lada 1300  0.046470\n",
      "0        Alfasud TI  0.039303\n",
      "\n",
      " Individus mal représentés par Facteur 1\n",
      "               id    COS2_1\n",
      "1        Audi 100  0.000240\n",
      "4        Fiat 132  0.000326\n",
      "10   Alfetta 1.66  0.001042\n",
      "7   Renault 16 TL  0.001984\n",
      "15     Mazda 9295  0.004045\n",
      "\n",
      " Individus bien représentés par Facteur 2\n",
      "                id    COS2_2\n",
      "9   Toyota Corolla  0.006251\n",
      "0       Alfasud TI  0.005180\n",
      "12     Datsun 200L  0.004887\n",
      "5      Lancia Beta  0.003162\n",
      "14          Rancho  0.002949\n",
      "\n",
      " Individus mal représentés par Facteur 2\n",
      "               id        COS2_2\n",
      "10   Alfetta 1.66  2.262317e-08\n",
      "15     Mazda 9295  1.310343e-04\n",
      "17      Lada 1300  1.738447e-04\n",
      "11  Princess 1800  1.774012e-04\n",
      "6     Peugeot 504  1.897075e-04\n"
     ]
    }
   ],
   "source": [
    "# contrib_individus.sort_values(by='individu_contrib',inplace=True,ascending=False)\n",
    "\n",
    "print(\"\\n Individus bien représentés par Facteur 1\")\n",
    "print(pd.DataFrame({'id':X.index,'COS2_1':cos2[:,0]}).sort_values(by='COS2_1',ascending=False).head(5))\n",
    "\n",
    "print(\"\\n Individus mal représentés par Facteur 1\")\n",
    "print(pd.DataFrame({'id':X.index,'COS2_1':cos2[:,0]}).sort_values(by='COS2_1',ascending=True).head(5))\n",
    "\n",
    "print(\"\\n Individus bien représentés par Facteur 2\")\n",
    "print(pd.DataFrame({'id':X.index,'COS2_2':cos2[:,1]}).sort_values(by='COS2_2',ascending=False).head(5))\n",
    "\n",
    "print(\"\\n Individus mal représentés par Facteur 2\")\n",
    "print(pd.DataFrame({'id':X.index,'COS2_2':cos2[:,1]}).sort_values(by='COS2_2',ascending=True).head(5))\n"
   ]
  },
  {
   "cell_type": "code",
   "execution_count": 15,
   "id": "digital-teach",
   "metadata": {
    "ExecuteTime": {
     "end_time": "2021-03-22T13:30:40.805712Z",
     "start_time": "2021-03-22T13:30:40.799728Z"
    }
   },
   "outputs": [
    {
     "name": "stdout",
     "output_type": "stream",
     "text": [
      "\u001b[31m ko - somme des % differt de 1 \u001b[0m\n",
      "[0.04464231 0.00103499 0.03825767 0.07409755 0.00078309 0.03621702\n",
      " 0.00701441 0.00283835 0.12350051 0.12955825 0.0013238  0.00711544\n",
      " 0.03592613 0.02424633 0.01077268 0.00419229 0.02265097 0.04674077]\n"
     ]
    }
   ],
   "source": [
    "# vérifions la théorie - somme en ligne des cos2 = 1\n",
    "verfif_cos_1 = np.sum(cos2,axis=1)\n",
    "if np.all ((verfif_cos_1.round(1) == 1.0 )) :\n",
    "    print('ok - somme des % = 1')\n",
    "else:\n",
    "    print(\"\\x1b[31m ko - somme des % differt de 1 \\x1b[0m\")\n",
    "    print(verfif_cos_1)"
   ]
  },
  {
   "cell_type": "code",
   "execution_count": null,
   "id": "commercial-personality",
   "metadata": {},
   "outputs": [],
   "source": []
  }
 ],
 "metadata": {
  "kernelspec": {
   "display_name": "Python 3",
   "language": "python",
   "name": "python3"
  },
  "language_info": {
   "codemirror_mode": {
    "name": "ipython",
    "version": 3
   },
   "file_extension": ".py",
   "mimetype": "text/x-python",
   "name": "python",
   "nbconvert_exporter": "python",
   "pygments_lexer": "ipython3",
   "version": "3.7.10"
  },
  "toc": {
   "base_numbering": 1,
   "nav_menu": {},
   "number_sections": true,
   "sideBar": true,
   "skip_h1_title": false,
   "title_cell": "Table of Contents",
   "title_sidebar": "Contents",
   "toc_cell": true,
   "toc_position": {},
   "toc_section_display": true,
   "toc_window_display": false
  },
  "varInspector": {
   "cols": {
    "lenName": 16,
    "lenType": 16,
    "lenVar": 40
   },
   "kernels_config": {
    "python": {
     "delete_cmd_postfix": "",
     "delete_cmd_prefix": "del ",
     "library": "var_list.py",
     "varRefreshCmd": "print(var_dic_list())"
    },
    "r": {
     "delete_cmd_postfix": ") ",
     "delete_cmd_prefix": "rm(",
     "library": "var_list.r",
     "varRefreshCmd": "cat(var_dic_list()) "
    }
   },
   "types_to_exclude": [
    "module",
    "function",
    "builtin_function_or_method",
    "instance",
    "_Feature"
   ],
   "window_display": false
  }
 },
 "nbformat": 4,
 "nbformat_minor": 5
}
